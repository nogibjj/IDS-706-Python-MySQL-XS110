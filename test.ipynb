{
 "cells": [
  {
   "cell_type": "code",
   "execution_count": 11,
   "metadata": {},
   "outputs": [
    {
     "name": "stdout",
     "output_type": "stream",
     "text": [
      "Row(customerName='Euro+ Shopping Channel', orderNum=26)\n",
      "Row(customerName='Mini Gifts Distributors Ltd.', orderNum=17)\n",
      "Row(customerName='Dragon Souveniers, Ltd.', orderNum=5)\n",
      "Row(customerName='Down Under Souveniers, Inc', orderNum=5)\n",
      "Row(customerName='Reims Collectables', orderNum=5)\n",
      "Row(customerName='Danish Wholesale Imports', orderNum=5)\n",
      "Row(customerName='Australian Collectors, Co.', orderNum=5)\n",
      "Row(customerName='Land of Toys Inc.', orderNum=4)\n",
      "Row(customerName='La Rochelle Gifts', orderNum=4)\n",
      "Row(customerName=\"Kelly's Gift Shop\", orderNum=4)\n"
     ]
    }
   ],
   "source": [
    "from databricks import sql\n",
    "import os\n",
    "from dotenv import load_dotenv\n",
    "\n",
    "# Load environment variables from .env\n",
    "load_dotenv()\n",
    "\n",
    "with sql.connect(server_hostname = os.getenv(\"DATABRICKS_HOST\"),\n",
    "                 http_path       = os.getenv(\"DATABRICKS_HTTP_PATH\"),\n",
    "                 access_token    = os.getenv(\"DATABRICKS_TOKEN\")) as connection:\n",
    "\n",
    "  with connection.cursor() as cursor:\n",
    "    cursor.execute(\"SELECT customerName, COUNT(O.orderNumber) as orderNum FROM customers AS C LEFT JOIN orders AS O ON C.customerNumber = O.customerNumber GROUP BY customerName Having customerName is not Null ORDER BY orderNum Desc limit 10\")\n",
    "    result = cursor.fetchall()\n",
    "\n",
    "    for row in result:\n",
    "      print(row)"
   ]
  }
 ],
 "metadata": {
  "kernelspec": {
   "display_name": "Python 3 (ipykernel)",
   "language": "python",
   "name": "python3"
  },
  "language_info": {
   "codemirror_mode": {
    "name": "ipython",
    "version": 3
   },
   "file_extension": ".py",
   "mimetype": "text/x-python",
   "name": "python",
   "nbconvert_exporter": "python",
   "pygments_lexer": "ipython3",
   "version": "3.8.10"
  },
  "orig_nbformat": 4
 },
 "nbformat": 4,
 "nbformat_minor": 2
}

{
 "cells": [
  {
   "cell_type": "code",
   "execution_count": 2,
   "metadata": {},
   "outputs": [],
   "source": [
    "import mysql.connector"
   ]
  },
  {
   "cell_type": "code",
   "execution_count": 4,
   "metadata": {},
   "outputs": [
    {
     "ename": "InterfaceError",
     "evalue": "2003: Can't connect to MySQL server on 'localhost:3306' (111 Connection refused)",
     "output_type": "error",
     "traceback": [
      "\u001b[0;31m---------------------------------------------------------------------------\u001b[0m",
      "\u001b[0;31mConnectionRefusedError\u001b[0m                    Traceback (most recent call last)",
      "File \u001b[0;32m~/venv/lib/python3.8/site-packages/mysql/connector/network.py:733\u001b[0m, in \u001b[0;36mMySQLTCPSocket.open_connection\u001b[0;34m(self)\u001b[0m\n\u001b[1;32m    732\u001b[0m     \u001b[39mself\u001b[39m\u001b[39m.\u001b[39msock\u001b[39m.\u001b[39msettimeout(\u001b[39mself\u001b[39m\u001b[39m.\u001b[39m_connection_timeout)\n\u001b[0;32m--> 733\u001b[0m     \u001b[39mself\u001b[39;49m\u001b[39m.\u001b[39;49msock\u001b[39m.\u001b[39;49mconnect(sockaddr)\n\u001b[1;32m    734\u001b[0m \u001b[39mexcept\u001b[39;00m \u001b[39mIOError\u001b[39;00m \u001b[39mas\u001b[39;00m err:\n",
      "\u001b[0;31mConnectionRefusedError\u001b[0m: [Errno 111] Connection refused",
      "\nThe above exception was the direct cause of the following exception:\n",
      "\u001b[0;31mInterfaceError\u001b[0m                            Traceback (most recent call last)",
      "\u001b[1;32m/workspaces/IDS-706-Python-MySQL-XS110/test.ipynb Cell 2\u001b[0m line \u001b[0;36m2\n\u001b[1;32m      <a href='vscode-notebook-cell://codespaces%2Bexpert-giggle-5j5jvrxqgvv2v9g9/workspaces/IDS-706-Python-MySQL-XS110/test.ipynb#W5sdnNjb2RlLXJlbW90ZQ%3D%3D?line=0'>1</a>\u001b[0m \u001b[39m# Establish a connection to the MySQL database\u001b[39;00m\n\u001b[0;32m----> <a href='vscode-notebook-cell://codespaces%2Bexpert-giggle-5j5jvrxqgvv2v9g9/workspaces/IDS-706-Python-MySQL-XS110/test.ipynb#W5sdnNjb2RlLXJlbW90ZQ%3D%3D?line=1'>2</a>\u001b[0m db_connection \u001b[39m=\u001b[39m mysql\u001b[39m.\u001b[39;49mconnector\u001b[39m.\u001b[39;49mconnect(\n\u001b[1;32m      <a href='vscode-notebook-cell://codespaces%2Bexpert-giggle-5j5jvrxqgvv2v9g9/workspaces/IDS-706-Python-MySQL-XS110/test.ipynb#W5sdnNjb2RlLXJlbW90ZQ%3D%3D?line=2'>3</a>\u001b[0m     host\u001b[39m=\u001b[39;49m\u001b[39m\"\u001b[39;49m\u001b[39mlocalhost\u001b[39;49m\u001b[39m\"\u001b[39;49m,\n\u001b[1;32m      <a href='vscode-notebook-cell://codespaces%2Bexpert-giggle-5j5jvrxqgvv2v9g9/workspaces/IDS-706-Python-MySQL-XS110/test.ipynb#W5sdnNjb2RlLXJlbW90ZQ%3D%3D?line=3'>4</a>\u001b[0m     user\u001b[39m=\u001b[39;49m\u001b[39m\"\u001b[39;49m\u001b[39mroot\u001b[39;49m\u001b[39m\"\u001b[39;49m,\n\u001b[1;32m      <a href='vscode-notebook-cell://codespaces%2Bexpert-giggle-5j5jvrxqgvv2v9g9/workspaces/IDS-706-Python-MySQL-XS110/test.ipynb#W5sdnNjb2RlLXJlbW90ZQ%3D%3D?line=4'>5</a>\u001b[0m     password\u001b[39m=\u001b[39;49m\u001b[39m\"\u001b[39;49m\u001b[39m123456\u001b[39;49m\u001b[39m\"\u001b[39;49m,\n\u001b[1;32m      <a href='vscode-notebook-cell://codespaces%2Bexpert-giggle-5j5jvrxqgvv2v9g9/workspaces/IDS-706-Python-MySQL-XS110/test.ipynb#W5sdnNjb2RlLXJlbW90ZQ%3D%3D?line=5'>6</a>\u001b[0m     database\u001b[39m=\u001b[39;49m\u001b[39m\"\u001b[39;49m\u001b[39mclassicmodels\u001b[39;49m\u001b[39m\"\u001b[39;49m\n\u001b[1;32m      <a href='vscode-notebook-cell://codespaces%2Bexpert-giggle-5j5jvrxqgvv2v9g9/workspaces/IDS-706-Python-MySQL-XS110/test.ipynb#W5sdnNjb2RlLXJlbW90ZQ%3D%3D?line=6'>7</a>\u001b[0m )\n",
      "File \u001b[0;32m~/venv/lib/python3.8/site-packages/mysql/connector/pooling.py:294\u001b[0m, in \u001b[0;36mconnect\u001b[0;34m(*args, **kwargs)\u001b[0m\n\u001b[1;32m    292\u001b[0m \u001b[39mif\u001b[39;00m CMySQLConnection \u001b[39mand\u001b[39;00m \u001b[39mnot\u001b[39;00m use_pure:\n\u001b[1;32m    293\u001b[0m     \u001b[39mreturn\u001b[39;00m CMySQLConnection(\u001b[39m*\u001b[39margs, \u001b[39m*\u001b[39m\u001b[39m*\u001b[39mkwargs)\n\u001b[0;32m--> 294\u001b[0m \u001b[39mreturn\u001b[39;00m MySQLConnection(\u001b[39m*\u001b[39;49margs, \u001b[39m*\u001b[39;49m\u001b[39m*\u001b[39;49mkwargs)\n",
      "File \u001b[0;32m~/venv/lib/python3.8/site-packages/mysql/connector/connection.py:169\u001b[0m, in \u001b[0;36mMySQLConnection.__init__\u001b[0;34m(self, **kwargs)\u001b[0m\n\u001b[1;32m    167\u001b[0m \u001b[39mif\u001b[39;00m kwargs:\n\u001b[1;32m    168\u001b[0m     \u001b[39mtry\u001b[39;00m:\n\u001b[0;32m--> 169\u001b[0m         \u001b[39mself\u001b[39;49m\u001b[39m.\u001b[39;49mconnect(\u001b[39m*\u001b[39;49m\u001b[39m*\u001b[39;49mkwargs)\n\u001b[1;32m    170\u001b[0m     \u001b[39mexcept\u001b[39;00m \u001b[39mException\u001b[39;00m:\n\u001b[1;32m    171\u001b[0m         \u001b[39m# Tidy-up underlying socket on failure\u001b[39;00m\n\u001b[1;32m    172\u001b[0m         \u001b[39mself\u001b[39m\u001b[39m.\u001b[39mclose()\n",
      "File \u001b[0;32m~/venv/lib/python3.8/site-packages/mysql/connector/abstracts.py:1217\u001b[0m, in \u001b[0;36mMySQLConnectionAbstract.connect\u001b[0;34m(self, **kwargs)\u001b[0m\n\u001b[1;32m   1214\u001b[0m     \u001b[39mself\u001b[39m\u001b[39m.\u001b[39mconfig(\u001b[39m*\u001b[39m\u001b[39m*\u001b[39mkwargs)\n\u001b[1;32m   1216\u001b[0m \u001b[39mself\u001b[39m\u001b[39m.\u001b[39mdisconnect()\n\u001b[0;32m-> 1217\u001b[0m \u001b[39mself\u001b[39;49m\u001b[39m.\u001b[39;49m_open_connection()\n\u001b[1;32m   1218\u001b[0m \u001b[39m# Server does not allow to run any other statement different from ALTER\u001b[39;00m\n\u001b[1;32m   1219\u001b[0m \u001b[39m# when user's password has been expired.\u001b[39;00m\n\u001b[1;32m   1220\u001b[0m \u001b[39mif\u001b[39;00m \u001b[39mnot\u001b[39;00m \u001b[39mself\u001b[39m\u001b[39m.\u001b[39m_client_flags \u001b[39m&\u001b[39m ClientFlag\u001b[39m.\u001b[39mCAN_HANDLE_EXPIRED_PASSWORDS:\n",
      "File \u001b[0;32m~/venv/lib/python3.8/site-packages/mysql/connector/connection.py:575\u001b[0m, in \u001b[0;36mMySQLConnection._open_connection\u001b[0;34m(self)\u001b[0m\n\u001b[1;32m    573\u001b[0m \u001b[39mself\u001b[39m\u001b[39m.\u001b[39m_socket \u001b[39m=\u001b[39m \u001b[39mself\u001b[39m\u001b[39m.\u001b[39m_get_connection()\n\u001b[1;32m    574\u001b[0m \u001b[39mtry\u001b[39;00m:\n\u001b[0;32m--> 575\u001b[0m     \u001b[39mself\u001b[39;49m\u001b[39m.\u001b[39;49m_socket\u001b[39m.\u001b[39;49mopen_connection()\n\u001b[1;32m    577\u001b[0m     \u001b[39m# do initial handshake\u001b[39;00m\n\u001b[1;32m    578\u001b[0m     \u001b[39mself\u001b[39m\u001b[39m.\u001b[39m_do_handshake()\n",
      "File \u001b[0;32m~/venv/lib/python3.8/site-packages/mysql/connector/network.py:735\u001b[0m, in \u001b[0;36mMySQLTCPSocket.open_connection\u001b[0;34m(self)\u001b[0m\n\u001b[1;32m    733\u001b[0m     \u001b[39mself\u001b[39m\u001b[39m.\u001b[39msock\u001b[39m.\u001b[39mconnect(sockaddr)\n\u001b[1;32m    734\u001b[0m \u001b[39mexcept\u001b[39;00m \u001b[39mIOError\u001b[39;00m \u001b[39mas\u001b[39;00m err:\n\u001b[0;32m--> 735\u001b[0m     \u001b[39mraise\u001b[39;00m InterfaceError(\n\u001b[1;32m    736\u001b[0m         errno\u001b[39m=\u001b[39m\u001b[39m2003\u001b[39m,\n\u001b[1;32m    737\u001b[0m         values\u001b[39m=\u001b[39m(\n\u001b[1;32m    738\u001b[0m             \u001b[39mself\u001b[39m\u001b[39m.\u001b[39mserver_host,\n\u001b[1;32m    739\u001b[0m             \u001b[39mself\u001b[39m\u001b[39m.\u001b[39mserver_port,\n\u001b[1;32m    740\u001b[0m             _strioerror(err),\n\u001b[1;32m    741\u001b[0m         ),\n\u001b[1;32m    742\u001b[0m     ) \u001b[39mfrom\u001b[39;00m \u001b[39merr\u001b[39;00m\n\u001b[1;32m    743\u001b[0m \u001b[39mexcept\u001b[39;00m \u001b[39mException\u001b[39;00m \u001b[39mas\u001b[39;00m err:\n\u001b[1;32m    744\u001b[0m     \u001b[39mraise\u001b[39;00m OperationalError(\u001b[39mstr\u001b[39m(err)) \u001b[39mfrom\u001b[39;00m \u001b[39merr\u001b[39;00m\n",
      "\u001b[0;31mInterfaceError\u001b[0m: 2003: Can't connect to MySQL server on 'localhost:3306' (111 Connection refused)"
     ]
    }
   ],
   "source": [
    "\n",
    "# Establish a connection to the MySQL database\n",
    "db_connection = mysql.connector.connect(\n",
    "    host=\"localhost\",\n",
    "    user=\"root\",\n",
    "    password=\"123456\",\n",
    "    database=\"classicmodels\"\n",
    ")\n"
   ]
  },
  {
   "cell_type": "code",
   "execution_count": 17,
   "metadata": {},
   "outputs": [
    {
     "name": "stdout",
     "output_type": "stream",
     "text": [
      "Top 5 rows of the GroceryDB table:\n",
      "[('', 'general name', 'count_products', 'ingred_FPro', 'avg_FPro_products', 'avg_distance_root', 'ingred_normalization_term', 'semantic_tree_name', 'semantic_tree_node'), ('0', 'arabica coffee', '21', '0.18903204038025467', '0.2754401549508692', '2.0476190476190474', '15.16666666666667', '', ''), ('1', 'grape tomatoes', '18', '0.21119429773632484', '0.4212998456790123', '3.111111111111111', '10.594047619047616', '', ''), ('2', 'cherry tomatoes', '11', '0.23032828967178565', '0.31386826599326595', '2.1818181818181817', '8.785714285714283', '', ''), ('4', 'albacore tuna', '17', '0.28535212418300654', '0.28535212418300654', '1.0', '17.0', '', '')]\n"
     ]
    }
   ],
   "source": [
    "# Establish a connection to the MySQL database\n",
    "db_connection = mysql.connector.connect(\n",
    "    host=\"localhost\",\n",
    "    user=\"root\",\n",
    "    password=\"Slh272057\",\n",
    "    database=\"classicmodel\"\n",
    ")\n",
    "\n",
    "\n",
    "# conn = sqlite3.connect(\"GroceryDB.db\")\n",
    "# cursor = conn.cursor()\n",
    "# cursor.execute(\"SELECT * FROM GroceryDB LIMIT 5;\")\n",
    "# print(\"Top 5 rows of the GroceryDB table:\")\n",
    "# print(cursor.fetchall())\n"
   ]
  },
  {
   "cell_type": "code",
   "execution_count": 18,
   "metadata": {},
   "outputs": [
    {
     "name": "stdout",
     "output_type": "stream",
     "text": [
      "Record inserted successfully!\n"
     ]
    }
   ],
   "source": [
    "# Example data to be inserted\n",
    "data_to_insert = [\n",
    "    ('general name', 'count_products', 'ingred_FPro', 'avg_FPro_products', 'avg_distance_root', 'ingred_normalization_term', 'semantic_tree_name', 'semantic_tree_node'),\n",
    "    ('arabica coffee', 21, 0.18903204038025467, 0.2754401549508692, 2.0476190476190474, 15.16666666666667, '', ''),\n",
    "    ('grape tomatoes', 18, 0.21119429773632484, 0.4212998456790123, 3.111111111111111, 10.594047619047616, '', ''),\n",
    "    ('cherry tomatoes', 11, 0.23032828967178565, 0.31386826599326595, 2.1818181818181817, 8.785714285714283, '', ''),\n",
    "    ('yellow bell pepper', 16, 0.23402118394914562, 0.46428807870370364, 4.375, 8.323412698412698, '', '')\n",
    "]\n",
    "\n",
    "# SQL query to insert data into the table\n",
    "cursor.executemany(\"\"\"\n",
    "    INSERT INTO GroceryDB \n",
    "    (general_name, count_products, ingred_FPro, avg_FPro_products, avg_distance_root, ingred_normalization_term, semantic_tree_name, semantic_tree_node)\n",
    "    VALUES (?, ?, ?, ?, ?, ?, ?, ?);\n",
    "\"\"\", data_to_insert)\n",
    "# Commit the transaction\n",
    "conn.commit()\n",
    "\n",
    "print(\"Record inserted successfully!\")"
   ]
  },
  {
   "cell_type": "code",
   "execution_count": 19,
   "metadata": {},
   "outputs": [],
   "source": [
    "# Example data to be deleted\n",
    "data_to_delete = ('yellow bell pepper',)\n",
    "# SQL query to delete data from the table\n",
    "cursor.execute(\"DELETE FROM GroceryDB WHERE general_name=?;\", data_to_delete)\n",
    "\n",
    "# Commit the transaction\n",
    "conn.commit()"
   ]
  },
  {
   "cell_type": "code",
   "execution_count": 20,
   "metadata": {},
   "outputs": [],
   "source": [
    "conn.close()"
   ]
  }
 ],
 "metadata": {
  "kernelspec": {
   "display_name": "Python 3 (ipykernel)",
   "language": "python",
   "name": "python3"
  },
  "language_info": {
   "codemirror_mode": {
    "name": "ipython",
    "version": 3
   },
   "file_extension": ".py",
   "mimetype": "text/x-python",
   "name": "python",
   "nbconvert_exporter": "python",
   "pygments_lexer": "ipython3",
   "version": "3.8.10"
  },
  "orig_nbformat": 4
 },
 "nbformat": 4,
 "nbformat_minor": 2
}
